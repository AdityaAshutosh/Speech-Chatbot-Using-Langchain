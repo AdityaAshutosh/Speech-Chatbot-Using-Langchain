{
 "cells": [
  {
   "cell_type": "code",
   "execution_count": 1,
   "metadata": {},
   "outputs": [
    {
     "data": {
      "text/plain": [
       "[Document(metadata={'source': 'transcript.txt'}, page_content=\"I wake up in the morning and I want to reach for my phone, but I know that even if I were to crank up the brightness on\\nthat phone screen, it's not bright enough to trigger that cortisol spike, and for me to be at my most alert and focused\\nthroughout the day and to optimize my sleep at night. So what I do is I get out of bed and I go outside, and if it's a\\nbright, clear day, and the sun is low in the sky, or the sun is starting to get overhead, what we call low solar angle,\\nthen I know I'm getting outside at the right time. If there's cloud cover and I can't see the sun, I also know I'm doing\\na good thing because it turns out especially on cloudy days, you want to get outside and get as much light energy or \\nphotons in your eyes. But let's say it's a very clear day and I can see where the sun is, I do not need to stare \\ndirectly into the sun. If it's very low in the sky, I might do that because it's not going to be very painful to my eyes. \\nHowever, if the sun is a little bit brighter and a little bit higher in the sky, sometimes it could be painful to look\\nat. So the way to get this sunlight viewing early in the day is to look toward the sun. If it's too bright to look at \\ndirectly, well then don't do that. You just look toward it, but not directly at it. It's absolutely fine to blink. \\nIn fact, I encourage you to blink whenever you feel the impulse to blink. Never look at any light, sunlight or otherwise \\nthat's so bright that it's painful to look at 'cause you can damage your eyes. But for this morning sunlight viewing, it's \\nbest to not wear sunglasses. That's right, to not wear sunglasses at least for this morning sunlight viewing. It is \\nabsolutely fine to wear eyeglasses or contact lenses, so-called corrective lenses. In fact, those will serve you well \\nin this practice or this tool because they will focus the light onto your neural retina and onto those melanopsin \\nintrinsically photosensitive ganglion cells. If your eyeglasses or contact lenses have UV protection, that's okay. \\nThere's so many different wavelengths of light coming from the sun and they are bright enough that they will trigger \\nthe mechanisms that you want triggered at this early time of day. So try and get outside, ideally within the first five \\nminutes of waking or maybe it's 15 minutes, but certainly within the first hour after waking. I want to share with you \\nthree critical things about this tool of morning sunlight viewing. First of all, this is not some woo biology thing. \\nThis is grounded in the core of our physiology. There are literally hundreds, if not thousands of quality peer reviewed \\npapers showing that light viewing early in the day is the most powerful stimulus for wakefulness throughout the day and \\nit has a powerful, positive impact on your ability to fall and stay asleep at night. So this is really the foundational \\npower tool for ensuring a great night's sleep and for feeling more awake during the day. Second of all, if you wake up \\nbefore the sun is out, you can and probably should flip on artificial lights in your internal home environment or apartment \\nor wherever you happen to live, if your goal is to be awake, right? If you wake up at four in the morning and you need \\nto be awake, well then turn on artificial lights. Once the sun is out however, once the sun has risen, then you still \\nwant to get outside and view sunlight. Some of you will wake up before the sun comes out. And if you're asking whether \\nor not turning on artificial lights can replace sunlight at those hours, unfortunately the answer is no. Unless you \\nhave a very special light, we'll talk about what kind of light, the bright artificial lights in your home environment \\nare not, I repeat, are not going to be sufficiently bright to turn on the cortisol mechanism and the other wake up \\nmechanisms that you need early in the day. The diabolical twist however is that those lights in your home or apartment, \\nor even on your phone are bright enough to disrupt your sleep if you look at them too late at night or in the middle \\nof the night. So there's this asymmetry in our retinal, our eye biology and in our brain's biology whereby early in \\nthe day, right around waking, you need a lot of light, a lot of photons, a lot of light energy and artificial lights \\ngenerally just won't accomplish what you need them to accomplish. But at night, even a little bit of artificial light \\ncan really mess up your so-called circadian, your 24-hour clocks and all these mechanisms that we're talking about. \\nSo if you wake up before the sun is out and it's still dark, please turn on as many bright artificial lights as you \\npossibly can or need, but then get outside once the sun is out. On cloudy days, you especially need to get outside. \\nI repeat, on cloudy days, overcast days, you especially need to get outside and get sunlight. You just need to get more \\nof it. Now, how much light and how much light viewing do you need? This is going to vary depending on person and place, \\nliterally where you live on earth, whether or not there's a lot of tree cover, whether or not you're somebody who has \\nsensitive eyes or less sensitive eyes. It's really impossible for me to give an absolute prescriptive, but we can give \\nsome general guidelines. In general, on a clear day, meaning no cloud cover or minimal cloud cover, you want to get \\nthis sunlight exposure to your eyes for about five minutes or so, could be three minutes one day, it could be seven \\nminutes the next day, about five minutes. On a day where there's cloud cover, so the sun is just peeking through the \\nclouds or it's more dense cloud cover, you want to get about 10 minutes of sunlight exposure to your eyes early in the \\nday. And on days that are really densely overcast or maybe even are rainy, you're going to want to get as much as 20 \\nor 30 minutes of sunlight exposure. Another key thing is, do not forget about just don't try and get this sunlight \\nexposure through a windshield of a car or a window, whether or not it's tinted or otherwise. It takes far too long. \\nIt's simply not going to trigger the relevant mechanisms, you would be standing there all day trying to get enough \\nlight into your eyes from the morning sunlight. And by then, the sun will have already moved from low solar angle to \\noverhead and it simply won't work for all sorts of mechanisms related to your circadian rhythm functions. So just \\ndon't try and do it through a windshield, sunglasses or a window. It's just not going to work. Get outside. If the \\nweather is really bad or for whatever reason, safety reasons, you cannot get outside, well then I suppose, try and get \\nnear a window. That would be the last, last resort, but you really want to get outside to get the sunlight exposure.\")]"
      ]
     },
     "execution_count": 1,
     "metadata": {},
     "output_type": "execute_result"
    }
   ],
   "source": [
    "#Loading text data from transcript\n",
    "from langchain_community.document_loaders import TextLoader\n",
    "loader= TextLoader('transcript.txt')\n",
    "text_document =loader.load()\n",
    "text_document"
   ]
  },
  {
   "cell_type": "code",
   "execution_count": 2,
   "metadata": {},
   "outputs": [],
   "source": [
    "import os\n",
    "from dotenv import load_dotenv\n",
    "load_dotenv()\n",
    "\n",
    "os.environ['GOOGLE_API_KEY'] = os.getenv('GOOGLE_API_KEY')\n",
    "\n"
   ]
  },
  {
   "cell_type": "code",
   "execution_count": 3,
   "metadata": {},
   "outputs": [
    {
     "data": {
      "text/plain": [
       "[Document(metadata={'source': 'transcript.txt'}, page_content=\"I wake up in the morning and I want to reach for my phone, but I know that even if I were to crank up the brightness on\\nthat phone screen, it's not bright enough to trigger that cortisol spike, and for me to be at my most alert and focused\\nthroughout the day and to optimize my sleep at night. So what I do is I get out of bed and I go outside, and if it's a\\nbright, clear day, and the sun is low in the sky, or the sun is starting to get overhead, what we call low solar angle,\"),\n",
       " Document(metadata={'source': 'transcript.txt'}, page_content=\"then I know I'm getting outside at the right time. If there's cloud cover and I can't see the sun, I also know I'm doing\\na good thing because it turns out especially on cloudy days, you want to get outside and get as much light energy or \\nphotons in your eyes. But let's say it's a very clear day and I can see where the sun is, I do not need to stare \\ndirectly into the sun. If it's very low in the sky, I might do that because it's not going to be very painful to my eyes.\"),\n",
       " Document(metadata={'source': 'transcript.txt'}, page_content=\"However, if the sun is a little bit brighter and a little bit higher in the sky, sometimes it could be painful to look\\nat. So the way to get this sunlight viewing early in the day is to look toward the sun. If it's too bright to look at \\ndirectly, well then don't do that. You just look toward it, but not directly at it. It's absolutely fine to blink. \\nIn fact, I encourage you to blink whenever you feel the impulse to blink. Never look at any light, sunlight or otherwise\"),\n",
       " Document(metadata={'source': 'transcript.txt'}, page_content=\"that's so bright that it's painful to look at 'cause you can damage your eyes. But for this morning sunlight viewing, it's \\nbest to not wear sunglasses. That's right, to not wear sunglasses at least for this morning sunlight viewing. It is \\nabsolutely fine to wear eyeglasses or contact lenses, so-called corrective lenses. In fact, those will serve you well \\nin this practice or this tool because they will focus the light onto your neural retina and onto those melanopsin\"),\n",
       " Document(metadata={'source': 'transcript.txt'}, page_content=\"intrinsically photosensitive ganglion cells. If your eyeglasses or contact lenses have UV protection, that's okay. \\nThere's so many different wavelengths of light coming from the sun and they are bright enough that they will trigger \\nthe mechanisms that you want triggered at this early time of day. So try and get outside, ideally within the first five \\nminutes of waking or maybe it's 15 minutes, but certainly within the first hour after waking. I want to share with you\"),\n",
       " Document(metadata={'source': 'transcript.txt'}, page_content='three critical things about this tool of morning sunlight viewing. First of all, this is not some woo biology thing. \\nThis is grounded in the core of our physiology. There are literally hundreds, if not thousands of quality peer reviewed \\npapers showing that light viewing early in the day is the most powerful stimulus for wakefulness throughout the day and \\nit has a powerful, positive impact on your ability to fall and stay asleep at night. So this is really the foundational'),\n",
       " Document(metadata={'source': 'transcript.txt'}, page_content=\"power tool for ensuring a great night's sleep and for feeling more awake during the day. Second of all, if you wake up \\nbefore the sun is out, you can and probably should flip on artificial lights in your internal home environment or apartment \\nor wherever you happen to live, if your goal is to be awake, right? If you wake up at four in the morning and you need \\nto be awake, well then turn on artificial lights. Once the sun is out however, once the sun has risen, then you still\"),\n",
       " Document(metadata={'source': 'transcript.txt'}, page_content=\"want to get outside and view sunlight. Some of you will wake up before the sun comes out. And if you're asking whether \\nor not turning on artificial lights can replace sunlight at those hours, unfortunately the answer is no. Unless you \\nhave a very special light, we'll talk about what kind of light, the bright artificial lights in your home environment \\nare not, I repeat, are not going to be sufficiently bright to turn on the cortisol mechanism and the other wake up\"),\n",
       " Document(metadata={'source': 'transcript.txt'}, page_content=\"mechanisms that you need early in the day. The diabolical twist however is that those lights in your home or apartment, \\nor even on your phone are bright enough to disrupt your sleep if you look at them too late at night or in the middle \\nof the night. So there's this asymmetry in our retinal, our eye biology and in our brain's biology whereby early in \\nthe day, right around waking, you need a lot of light, a lot of photons, a lot of light energy and artificial lights\"),\n",
       " Document(metadata={'source': 'transcript.txt'}, page_content=\"generally just won't accomplish what you need them to accomplish. But at night, even a little bit of artificial light \\ncan really mess up your so-called circadian, your 24-hour clocks and all these mechanisms that we're talking about. \\nSo if you wake up before the sun is out and it's still dark, please turn on as many bright artificial lights as you \\npossibly can or need, but then get outside once the sun is out. On cloudy days, you especially need to get outside.\"),\n",
       " Document(metadata={'source': 'transcript.txt'}, page_content=\"I repeat, on cloudy days, overcast days, you especially need to get outside and get sunlight. You just need to get more \\nof it. Now, how much light and how much light viewing do you need? This is going to vary depending on person and place, \\nliterally where you live on earth, whether or not there's a lot of tree cover, whether or not you're somebody who has \\nsensitive eyes or less sensitive eyes. It's really impossible for me to give an absolute prescriptive, but we can give\"),\n",
       " Document(metadata={'source': 'transcript.txt'}, page_content=\"some general guidelines. In general, on a clear day, meaning no cloud cover or minimal cloud cover, you want to get \\nthis sunlight exposure to your eyes for about five minutes or so, could be three minutes one day, it could be seven \\nminutes the next day, about five minutes. On a day where there's cloud cover, so the sun is just peeking through the \\nclouds or it's more dense cloud cover, you want to get about 10 minutes of sunlight exposure to your eyes early in the\"),\n",
       " Document(metadata={'source': 'transcript.txt'}, page_content=\"day. And on days that are really densely overcast or maybe even are rainy, you're going to want to get as much as 20 \\nor 30 minutes of sunlight exposure. Another key thing is, do not forget about just don't try and get this sunlight \\nexposure through a windshield of a car or a window, whether or not it's tinted or otherwise. It takes far too long. \\nIt's simply not going to trigger the relevant mechanisms, you would be standing there all day trying to get enough\"),\n",
       " Document(metadata={'source': 'transcript.txt'}, page_content=\"light into your eyes from the morning sunlight. And by then, the sun will have already moved from low solar angle to \\noverhead and it simply won't work for all sorts of mechanisms related to your circadian rhythm functions. So just \\ndon't try and do it through a windshield, sunglasses or a window. It's just not going to work. Get outside. If the \\nweather is really bad or for whatever reason, safety reasons, you cannot get outside, well then I suppose, try and get\"),\n",
       " Document(metadata={'source': 'transcript.txt'}, page_content='near a window. That would be the last, last resort, but you really want to get outside to get the sunlight exposure.')]"
      ]
     },
     "execution_count": 3,
     "metadata": {},
     "output_type": "execute_result"
    }
   ],
   "source": [
    "#Chunking\n",
    "from langchain.text_splitter import RecursiveCharacterTextSplitter\n",
    "text_splitter= RecursiveCharacterTextSplitter(\n",
    "    chunk_size= 500,\n",
    "    chunk_overlap=0\n",
    ")\n",
    "documents= text_splitter.split_documents(text_document)\n",
    "\n",
    "documents"
   ]
  },
  {
   "cell_type": "code",
   "execution_count": 4,
   "metadata": {},
   "outputs": [
    {
     "name": "stderr",
     "output_type": "stream",
     "text": [
      "c:\\Users\\ASUS\\AppData\\Local\\Programs\\Python\\Python312\\Lib\\site-packages\\tqdm\\auto.py:21: TqdmWarning: IProgress not found. Please update jupyter and ipywidgets. See https://ipywidgets.readthedocs.io/en/stable/user_install.html\n",
      "  from .autonotebook import tqdm as notebook_tqdm\n"
     ]
    }
   ],
   "source": [
    "#Embedding and vector DB storage\n",
    "from langchain_google_genai import GoogleGenerativeAIEmbeddings\n",
    "from langchain_community.vectorstores import Chroma\n",
    "\n",
    "# Initialize an embedding model and vector store\n",
    "embedding = GoogleGenerativeAIEmbeddings(model=\"models/embedding-001\")\n",
    "from langchain_community.vectorstores import FAISS\n",
    "db= FAISS.from_documents(documents, embedding)"
   ]
  },
  {
   "cell_type": "code",
   "execution_count": 5,
   "metadata": {},
   "outputs": [
    {
     "data": {
      "text/plain": [
       "[Document(metadata={'source': 'transcript.txt'}, page_content=\"that's so bright that it's painful to look at 'cause you can damage your eyes. But for this morning sunlight viewing, it's \\nbest to not wear sunglasses. That's right, to not wear sunglasses at least for this morning sunlight viewing. It is \\nabsolutely fine to wear eyeglasses or contact lenses, so-called corrective lenses. In fact, those will serve you well \\nin this practice or this tool because they will focus the light onto your neural retina and onto those melanopsin\"),\n",
       " Document(metadata={'source': 'transcript.txt'}, page_content=\"intrinsically photosensitive ganglion cells. If your eyeglasses or contact lenses have UV protection, that's okay. \\nThere's so many different wavelengths of light coming from the sun and they are bright enough that they will trigger \\nthe mechanisms that you want triggered at this early time of day. So try and get outside, ideally within the first five \\nminutes of waking or maybe it's 15 minutes, but certainly within the first hour after waking. I want to share with you\"),\n",
       " Document(metadata={'source': 'transcript.txt'}, page_content=\"However, if the sun is a little bit brighter and a little bit higher in the sky, sometimes it could be painful to look\\nat. So the way to get this sunlight viewing early in the day is to look toward the sun. If it's too bright to look at \\ndirectly, well then don't do that. You just look toward it, but not directly at it. It's absolutely fine to blink. \\nIn fact, I encourage you to blink whenever you feel the impulse to blink. Never look at any light, sunlight or otherwise\"),\n",
       " Document(metadata={'source': 'transcript.txt'}, page_content=\"want to get outside and view sunlight. Some of you will wake up before the sun comes out. And if you're asking whether \\nor not turning on artificial lights can replace sunlight at those hours, unfortunately the answer is no. Unless you \\nhave a very special light, we'll talk about what kind of light, the bright artificial lights in your home environment \\nare not, I repeat, are not going to be sufficiently bright to turn on the cortisol mechanism and the other wake up\")]"
      ]
     },
     "execution_count": 5,
     "metadata": {},
     "output_type": "execute_result"
    }
   ],
   "source": [
    "#querying/sanity test\n",
    "query= 'What is Huberman saying about morning sunlight?'\n",
    "result= db.similarity_search(query)\n",
    "result"
   ]
  },
  {
   "cell_type": "code",
   "execution_count": 8,
   "metadata": {},
   "outputs": [
    {
     "data": {
      "text/plain": [
       "OllamaLLM(model='llama3')"
      ]
     },
     "execution_count": 8,
     "metadata": {},
     "output_type": "execute_result"
    }
   ],
   "source": [
    "#LLM for RAG pipeline\n",
    "from langchain_ollama.llms import OllamaLLM\n",
    "llm = OllamaLLM(model= \"llama3\")\n",
    "llm"
   ]
  },
  {
   "cell_type": "code",
   "execution_count": 9,
   "metadata": {},
   "outputs": [],
   "source": [
    "#Designing chatprompt template\n",
    "from langchain_core.prompts import ChatPromptTemplate\n",
    "prompt= ChatPromptTemplate.from_template(\"\"\"\n",
    "Answer the question asked based only on the provided context.\n",
    "Think in-depth before giving answer, but do not try to use any external sources\n",
    "of information.\n",
    "<context>\n",
    "{context}\n",
    "</context>\n",
    "Question: {input}\n",
    "\n",
    "\"\"\")"
   ]
  },
  {
   "cell_type": "code",
   "execution_count": 10,
   "metadata": {},
   "outputs": [],
   "source": [
    "#Chain introduction\n",
    "from langchain.chains.combine_documents import create_stuff_documents_chain\n",
    "document_chain= create_stuff_documents_chain(llm, prompt)\n"
   ]
  },
  {
   "cell_type": "code",
   "execution_count": 11,
   "metadata": {},
   "outputs": [
    {
     "data": {
      "text/plain": [
       "VectorStoreRetriever(tags=['FAISS', 'GoogleGenerativeAIEmbeddings'], vectorstore=<langchain_community.vectorstores.faiss.FAISS object at 0x00000209E77F8DD0>)"
      ]
     },
     "execution_count": 11,
     "metadata": {},
     "output_type": "execute_result"
    }
   ],
   "source": [
    "retriever= db.as_retriever()\n",
    "retriever"
   ]
  },
  {
   "cell_type": "code",
   "execution_count": 13,
   "metadata": {},
   "outputs": [],
   "source": [
    "#Retrieval chain\n",
    "\n",
    "from langchain.chains import create_retrieval_chain\n",
    "retrieval_chain= create_retrieval_chain(retriever, document_chain)\n",
    "user_query= input(\"What do you want to ask?\")\n",
    "response= retrieval_chain.invoke({\"input\": user_query})\n",
    "response['answer']"
   ]
  }
 ],
 "metadata": {
  "kernelspec": {
   "display_name": "Python 3",
   "language": "python",
   "name": "python3"
  },
  "language_info": {
   "codemirror_mode": {
    "name": "ipython",
    "version": 3
   },
   "file_extension": ".py",
   "mimetype": "text/x-python",
   "name": "python",
   "nbconvert_exporter": "python",
   "pygments_lexer": "ipython3",
   "version": "3.12.2"
  }
 },
 "nbformat": 4,
 "nbformat_minor": 2
}
